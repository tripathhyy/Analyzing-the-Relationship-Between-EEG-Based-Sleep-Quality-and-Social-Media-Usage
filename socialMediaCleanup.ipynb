{
 "cells": [
  {
   "cell_type": "code",
   "execution_count": 1,
   "id": "bfbab3f9",
   "metadata": {},
   "outputs": [],
   "source": [
    "import pandas as pd\n",
    "import numpy as np"
   ]
  },
  {
   "cell_type": "code",
   "execution_count": 3,
   "id": "7ed92edd",
   "metadata": {},
   "outputs": [
    {
     "name": "stdout",
     "output_type": "stream",
     "text": [
      "Initial Shape: (300, 15)\n"
     ]
    },
    {
     "data": {
      "text/html": [
       "<div>\n",
       "<style scoped>\n",
       "    .dataframe tbody tr th:only-of-type {\n",
       "        vertical-align: middle;\n",
       "    }\n",
       "\n",
       "    .dataframe tbody tr th {\n",
       "        vertical-align: top;\n",
       "    }\n",
       "\n",
       "    .dataframe thead th {\n",
       "        text-align: right;\n",
       "    }\n",
       "</style>\n",
       "<table border=\"1\" class=\"dataframe\">\n",
       "  <thead>\n",
       "    <tr style=\"text-align: right;\">\n",
       "      <th></th>\n",
       "      <th>Consumer ID</th>\n",
       "      <th>Customer Name</th>\n",
       "      <th>Age</th>\n",
       "      <th>Gender</th>\n",
       "      <th>Income (USD)</th>\n",
       "      <th>Education Level</th>\n",
       "      <th>Social Media Usage (Hours/Day)</th>\n",
       "      <th>Social Media Platforms</th>\n",
       "      <th>Influence Level</th>\n",
       "      <th>Purchase Decision</th>\n",
       "      <th>Product Category</th>\n",
       "      <th>Specific Product</th>\n",
       "      <th>Amount Spent (USD)</th>\n",
       "      <th>Brand Name</th>\n",
       "      <th>City</th>\n",
       "    </tr>\n",
       "  </thead>\n",
       "  <tbody>\n",
       "    <tr>\n",
       "      <th>0</th>\n",
       "      <td>1</td>\n",
       "      <td>Alice Johnson</td>\n",
       "      <td>28</td>\n",
       "      <td>Female</td>\n",
       "      <td>45000</td>\n",
       "      <td>Bachelor's</td>\n",
       "      <td>2.5</td>\n",
       "      <td>Instagram, Twitter</td>\n",
       "      <td>Very Influential</td>\n",
       "      <td>Yes</td>\n",
       "      <td>Fashion</td>\n",
       "      <td>Dress</td>\n",
       "      <td>200</td>\n",
       "      <td>Nike, Zara</td>\n",
       "      <td>New York</td>\n",
       "    </tr>\n",
       "    <tr>\n",
       "      <th>1</th>\n",
       "      <td>2</td>\n",
       "      <td>Bob Smith</td>\n",
       "      <td>35</td>\n",
       "      <td>Male</td>\n",
       "      <td>60000</td>\n",
       "      <td>Master's</td>\n",
       "      <td>1.8</td>\n",
       "      <td>Facebook, Instagram</td>\n",
       "      <td>Somewhat Influential</td>\n",
       "      <td>Yes</td>\n",
       "      <td>Electronics</td>\n",
       "      <td>Smartphone</td>\n",
       "      <td>800</td>\n",
       "      <td>Apple, Samsung</td>\n",
       "      <td>Los Angeles</td>\n",
       "    </tr>\n",
       "    <tr>\n",
       "      <th>2</th>\n",
       "      <td>3</td>\n",
       "      <td>Chris Taylor</td>\n",
       "      <td>22</td>\n",
       "      <td>Non-binary</td>\n",
       "      <td>32000</td>\n",
       "      <td>High School</td>\n",
       "      <td>4.0</td>\n",
       "      <td>TikTok, Snapchat</td>\n",
       "      <td>Not Influential</td>\n",
       "      <td>No</td>\n",
       "      <td>NaN</td>\n",
       "      <td>NaN</td>\n",
       "      <td>0</td>\n",
       "      <td>NaN</td>\n",
       "      <td>Chicago</td>\n",
       "    </tr>\n",
       "    <tr>\n",
       "      <th>3</th>\n",
       "      <td>4</td>\n",
       "      <td>David Brown</td>\n",
       "      <td>40</td>\n",
       "      <td>Male</td>\n",
       "      <td>75000</td>\n",
       "      <td>PhD</td>\n",
       "      <td>3.2</td>\n",
       "      <td>Facebook, LinkedIn</td>\n",
       "      <td>Very Influential</td>\n",
       "      <td>Yes</td>\n",
       "      <td>Food</td>\n",
       "      <td>Burger</td>\n",
       "      <td>50</td>\n",
       "      <td>McDonald's</td>\n",
       "      <td>Houston</td>\n",
       "    </tr>\n",
       "    <tr>\n",
       "      <th>4</th>\n",
       "      <td>5</td>\n",
       "      <td>Emily White</td>\n",
       "      <td>29</td>\n",
       "      <td>Female</td>\n",
       "      <td>55000</td>\n",
       "      <td>Bachelor's</td>\n",
       "      <td>2.0</td>\n",
       "      <td>Instagram, TikTok</td>\n",
       "      <td>Somewhat Influential</td>\n",
       "      <td>Yes</td>\n",
       "      <td>Beauty</td>\n",
       "      <td>Makeup</td>\n",
       "      <td>100</td>\n",
       "      <td>Sephora</td>\n",
       "      <td>Miami</td>\n",
       "    </tr>\n",
       "  </tbody>\n",
       "</table>\n",
       "</div>"
      ],
      "text/plain": [
       "   Consumer ID  Customer Name  Age      Gender  Income (USD) Education Level  \\\n",
       "0            1  Alice Johnson   28      Female         45000      Bachelor's   \n",
       "1            2      Bob Smith   35        Male         60000        Master's   \n",
       "2            3   Chris Taylor   22  Non-binary         32000     High School   \n",
       "3            4    David Brown   40        Male         75000             PhD   \n",
       "4            5    Emily White   29      Female         55000      Bachelor's   \n",
       "\n",
       "   Social Media Usage (Hours/Day) Social Media Platforms  \\\n",
       "0                             2.5     Instagram, Twitter   \n",
       "1                             1.8    Facebook, Instagram   \n",
       "2                             4.0       TikTok, Snapchat   \n",
       "3                             3.2     Facebook, LinkedIn   \n",
       "4                             2.0      Instagram, TikTok   \n",
       "\n",
       "        Influence Level Purchase Decision Product Category Specific Product  \\\n",
       "0      Very Influential               Yes          Fashion            Dress   \n",
       "1  Somewhat Influential               Yes      Electronics       Smartphone   \n",
       "2       Not Influential                No              NaN              NaN   \n",
       "3      Very Influential               Yes             Food           Burger   \n",
       "4  Somewhat Influential               Yes           Beauty           Makeup   \n",
       "\n",
       "   Amount Spent (USD)      Brand Name         City  \n",
       "0                 200      Nike, Zara     New York  \n",
       "1                 800  Apple, Samsung  Los Angeles  \n",
       "2                   0             NaN      Chicago  \n",
       "3                  50      McDonald's      Houston  \n",
       "4                 100         Sephora        Miami  "
      ]
     },
     "execution_count": 3,
     "metadata": {},
     "output_type": "execute_result"
    }
   ],
   "source": [
    "df = pd.read_csv(\"social_media_dataset.csv\") \n",
    "\n",
    "print(\"Initial Shape:\", df.shape)\n",
    "df.head()"
   ]
  },
  {
   "cell_type": "code",
   "execution_count": 4,
   "id": "1ad6085d",
   "metadata": {},
   "outputs": [],
   "source": [
    "useful_cols = [\n",
    "    \"Consumer ID\", \"Age\", \"Gender\", \"Income (USD)\", \"Education Level\",\n",
    "    \"Social Media Usage (Hours/Day)\", \"Social Media Platforms\",\n",
    "    \"Influence Level\", \"Purchase Decision\", \"Amount Spent (USD)\"\n",
    "]\n",
    "df = df[useful_cols]"
   ]
  },
  {
   "cell_type": "code",
   "execution_count": 5,
   "id": "8c420ff3",
   "metadata": {},
   "outputs": [],
   "source": [
    "df = df.dropna(subset=[\"Age\", \"Social Media Usage (Hours/Day)\"])"
   ]
  },
  {
   "cell_type": "code",
   "execution_count": 6,
   "id": "72dd9ca1",
   "metadata": {},
   "outputs": [],
   "source": [
    "df[\"Age\"] = df[\"Age\"].astype(int)\n",
    "df[\"Social Media Usage (Hours/Day)\"] = df[\"Social Media Usage (Hours/Day)\"].astype(float)\n",
    "df[\"Income (USD)\"] = pd.to_numeric(df[\"Income (USD)\"], errors=\"coerce\")\n",
    "df[\"Amount Spent (USD)\"] = pd.to_numeric(df[\"Amount Spent (USD)\"], errors=\"coerce\")"
   ]
  },
  {
   "cell_type": "code",
   "execution_count": 7,
   "id": "881a3a01",
   "metadata": {},
   "outputs": [],
   "source": [
    "df = df[(df[\"Age\"] >= 10) & (df[\"Age\"] <= 100)]\n",
    "df = df[(df[\"Social Media Usage (Hours/Day)\"] >= 0) & (df[\"Social Media Usage (Hours/Day)\"] <= 24)]"
   ]
  },
  {
   "cell_type": "code",
   "execution_count": null,
   "id": "acd571c6",
   "metadata": {},
   "outputs": [],
   "source": [
    "df[\"Gender\"] = df[\"Gender\"].fillna(\"Unknown\")\n",
    "df[\"Purchase Decision\"] = df[\"Purchase Decision\"].map({\"Yes\": 1, \"No\": 0})\n",
    "df[\"Purchase Decision\"] = df[\"Purchase Decision\"].fillna(0) "
   ]
  },
  {
   "cell_type": "code",
   "execution_count": 9,
   "id": "9703dd02",
   "metadata": {},
   "outputs": [],
   "source": [
    "df = df.dropna()"
   ]
  },
  {
   "cell_type": "code",
   "execution_count": 10,
   "id": "6a73a4c7",
   "metadata": {},
   "outputs": [
    {
     "name": "stdout",
     "output_type": "stream",
     "text": [
      "Cleaned Shape: (300, 10)\n"
     ]
    }
   ],
   "source": [
    "print(\"Cleaned Shape:\", df.shape)\n",
    "df.describe(include=\"all\")\n",
    "\n",
    "# Save cleaned version for further use\n",
    "df.to_csv(\"cleaned_social_media.csv\", index=False)"
   ]
  }
 ],
 "metadata": {
  "kernelspec": {
   "display_name": "DsProject",
   "language": "python",
   "name": "python3"
  },
  "language_info": {
   "codemirror_mode": {
    "name": "ipython",
    "version": 3
   },
   "file_extension": ".py",
   "mimetype": "text/x-python",
   "name": "python",
   "nbconvert_exporter": "python",
   "pygments_lexer": "ipython3",
   "version": "3.12.3"
  }
 },
 "nbformat": 4,
 "nbformat_minor": 5
}
